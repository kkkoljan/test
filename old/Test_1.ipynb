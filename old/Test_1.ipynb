{
 "cells": [
  {
   "cell_type": "code",
   "execution_count": 18,
   "metadata": {},
   "outputs": [
    {
     "name": "stdout",
     "output_type": "stream",
     "text": [
      "Critical Temperature of Water is 647.096 Kelvin\n"
     ]
    }
   ],
   "source": [
    "# Many many thanks to www.coolprop.org !!! \n",
    "#\n",
    "# Try out:\n",
    "# Instead of Water put:\n",
    "# - Nitrogen\n",
    "# - Oxygen\n",
    "# - Methane\n",
    "from CoolProp.CoolProp import PropsSI\n",
    "print('Critical Temperature of Water is', PropsSI('Water','Tcrit'), 'Kelvin')"
   ]
  }
 ],
 "metadata": {
  "kernelspec": {
   "display_name": "env1",
   "language": "python",
   "name": "env1"
  },
  "language_info": {
   "codemirror_mode": {
    "name": "ipython",
    "version": 3
   },
   "file_extension": ".py",
   "mimetype": "text/x-python",
   "name": "python",
   "nbconvert_exporter": "python",
   "pygments_lexer": "ipython3",
   "version": "3.5.6"
  }
 },
 "nbformat": 4,
 "nbformat_minor": 2
}
