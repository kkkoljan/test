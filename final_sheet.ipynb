{
 "cells": [
  {
   "cell_type": "code",
   "execution_count": null,
   "metadata": {},
   "outputs": [],
   "source": [
    "# Any simulation software has a combustion calculator. However, there is no nice online combustion calculator\n",
    "# available. So, I created one. It calculates the fluegas for a given fuelgas, humid air and lambda.\n",
    "# Lambda definition used here = moleflow_O2_used / moleflow_O2_stoichiometric_combustion.\n",
    "#\n",
    "# First, create objects 'fuel' and 'air'. Then create the combustion object, which returns the object \n",
    "#'flue'. In order to execute the code, you have to run the cells (button 'run'). \n",
    "# The objects 'fuel','air','flue' contain following methods:\n",
    "# get_massfrac(), get_molefrac(), get_massflow_comp(), get_moleflow_comp()\n",
    "# get_massflow_total(), get_moleflow_total()\n",
    "# Example: a = get_moleflow_comp()\n",
    "#\n",
    "# I didn't spend much time on error catch routines. So, if you use nonsense as input you might get an error or\n",
    "# you get nonsense as result.\n",
    "#\n",
    "# The numbers in the print-output are restricted to 6 digits. If you need the actual value, use the methods\n",
    "# described above.\n",
    "#\n",
    "# Many many thanks to www.CoolProp.org (humid air calculation comes from there)\n",
    "# Any feedback is highly appreciated (mail to: nico.karakin@gmail.com)"
   ]
  },
  {
   "cell_type": "code",
   "execution_count": 2,
   "metadata": {},
   "outputs": [],
   "source": [
    "%run Stream_def.py\n",
    "# FUEL INPUT:\n",
    "#-------way1:\n",
    "# flag1 = 'massfrac' AND flag2 =          'massflow_total' or 'moleflow_total'\n",
    "# param1 = vektor    AND param2 = number: [kg/s]           or  [mole/s]\n",
    "#-------way2:\n",
    "# flag1 = 'molefrac' AND flag2 =          'massflow_total' or 'moleflow_total'\n",
    "# param1 = vektor    AND param2 = number: [kg/s]           or  [mole/s]\n",
    "#-------way3:\n",
    "# flag1 = 'massflow_comp' AND flag2 = 'none'\n",
    "# param1 = vektor [kg/s]  AND param2 = 'none' \n",
    "#-------way4:\n",
    "# flag1  = 'moleflow_comp' AND flag2 = 'none'\n",
    "# param1 = vektor [mole/s] AND param2 = 'none'\n",
    "flag1 = 'moleflow_comp'   \n",
    "#        CO2,  H2O, N2,  Ar,  O2,  SO2, CO,  H2,  CH4, H2S, C2H6,C3H8 # all allowed (even Oxygen)\n",
    "param1 = [0.0, 0.0, 0.0, 0.0, 2.0, 0.0, 0.0, 0.0, 1.0, 0.0, 0.0, 0.0] \n",
    "flag2 = 'none'  \n",
    "param2 = 'none'\n",
    "# Create fuel stream object\n",
    "fuel = Stream_def(flag1,param1,flag2,param2)"
   ]
  },
  {
   "cell_type": "code",
   "execution_count": 3,
   "metadata": {},
   "outputs": [],
   "source": [
    "%run Stream_def_HA.py\n",
    "# AIR INPUT:\n",
    "temp = 350 # Temperature in [K]\n",
    "p = 101325 # Pressure in [Pa]\n",
    "humid = 0.1 # Relative Humidity of air in [%/100], rest is treated as ideal gas\n",
    "#         CO2,  H2O, N2,  Ar,  O2,  SO2, CO,  H2,  CH4, H2S, C2H6,C3H8 massfraction,no burnables,O2 required\n",
    "dry_air = [0.0, 0.0, 0.0, 0.0, 0.5, 0.5, 0.0, 0.0, 0.0, 0.0, 0.0, 0.0] \n",
    "# Create air stream object \n",
    "air = Stream_def_HA(temp,p,humid,dry_air)"
   ]
  },
  {
   "cell_type": "code",
   "execution_count": 7,
   "metadata": {},
   "outputs": [],
   "source": [
    "%run Combustion.py\n",
    "# COMBUSTION INPUT: lambda, fuel stream object, air stream object\n",
    "# Create combustion object\n",
    "comb = Combustion(1.0,fuel,air)\n",
    "flue = comb.get_fluegas()"
   ]
  },
  {
   "cell_type": "code",
   "execution_count": 8,
   "metadata": {},
   "outputs": [
    {
     "name": "stdout",
     "output_type": "stream",
     "text": [
      "FUEL             |    CO2    H2O     N2     Ar     O2    SO2     CO     H2    CH4    H2S   C2H6   C3H8    SUM\n",
      "massfrac [-]     |      0      0      0      0 0.7996      0      0      0 0.2004      0      0      0      1\n",
      "molefrac [-]     |      0      0      0      0 0.6667      0      0      0 0.3333      0      0      0      1\n",
      "massflow [kg/s]  |      0      0      0      0  0.064      0      0      0  0.016      0      0      0   0.08\n",
      "moleflow [mol/s] |      0      0      0      0      2      0      0      0      1      0      0      0      3\n",
      "\n",
      "\n",
      "AIR              |\n",
      "massfrac [-]     |      0 0.0261      0      0 0.4869 0.4869      0      0      0      0      0      0      1\n",
      "molefrac [-]     |      0 0.0598      0      0  0.627 0.3132      0      0      0      0      0      0      1\n",
      "massflow [kg/s]  |      0      0      0      0      0      0      0      0      0      0      0      0      0\n",
      "moleflow [mol/s] |      0      0      0      0      0      0      0      0      0      0      0      0      0\n",
      "\n",
      "\n",
      "FLUEGAS          |\n",
      "massfrac [-]     | 0.5498 0.4502      0      0      0      0      0      0      0      0      0      0      1\n",
      "molefrac [-]     | 0.3333 0.6667      0      0      0      0      0      0      0      0      0      0      1\n",
      "massflow [kg/s]  |  0.044  0.036      0      0      0      0      0      0      0      0      0      0   0.08\n",
      "moleflow [mol/s] |      1      2      0      0      0      0      0      0      0      0      0      0      3\n",
      "\n",
      "\n",
      "ELEMENTS         |         C         H         O         S         N        Ar                                 \n",
      "Fuel    [mole/s] |         1         4         4         0         0         0                                     \n",
      "Air     [mole/s] |         0         0         0         0         0         0                                     \n",
      "Flue    [mole/s] |         1         4         4         0         0         0                                     \n",
      "Balance [mole/s] |         0         0         0         0         0         0                                                                   \n",
      "\n",
      "\n",
      "You have specified Oxygen in fuelgas. The lambda value you have specified would require\n",
      "-either the amount of Oxygen contained in fuelgas\n",
      "-or less Oxygen as contained in fuelgas\n",
      "Therefore, the calculation uses Oxygen in fuelgas only and sets the airflow to 0.\n",
      "\n",
      "\n",
      "PARAMETERS       \n",
      "lambda specified [-] = 1.0\n",
      "lambda used [-] = 1.0\n"
     ]
    }
   ],
   "source": [
    "# Make a print out\n",
    "%run get_output\n",
    "get_output(fuel,air,flue, comb)"
   ]
  },
  {
   "cell_type": "code",
   "execution_count": null,
   "metadata": {},
   "outputs": [],
   "source": []
  }
 ],
 "metadata": {
  "kernelspec": {
   "display_name": "env1",
   "language": "python",
   "name": "env1"
  },
  "language_info": {
   "codemirror_mode": {
    "name": "ipython",
    "version": 3
   },
   "file_extension": ".py",
   "mimetype": "text/x-python",
   "name": "python",
   "nbconvert_exporter": "python",
   "pygments_lexer": "ipython3",
   "version": "3.5.6"
  }
 },
 "nbformat": 4,
 "nbformat_minor": 2
}
